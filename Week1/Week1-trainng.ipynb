{
 "cells": [
  {
   "cell_type": "markdown",
   "metadata": {},
   "source": [
    "# Python Data Analysis"
   ]
  },
  {
   "cell_type": "markdown",
   "metadata": {},
   "source": [
    "## Dictionaries"
   ]
  },
  {
   "cell_type": "code",
   "execution_count": 5,
   "metadata": {},
   "outputs": [
    {
     "name": "stdout",
     "output_type": "stream",
     "text": [
      "{'sun': 'Sunday', 'mon': 'Monday', 'tues': 'Tuesday', 'wed': 'Wednesday', 'thurs': 'Thursday', 'fri': 'Friday', 'sat': 'Saturday'}\n",
      "==========\n",
      "\n",
      "Wednesday\n"
     ]
    }
   ],
   "source": [
    "days = {'sun':'Sunday',\n",
    "        'mon':'Monday',\n",
    "        'tues':'Tuesday',\n",
    "        'wed':'Wednesday',\n",
    "        'thurs':'Thursday',\n",
    "        'fri':'Friday',\n",
    "        'sat':'Saturday',    \n",
    "}\n",
    "print(days)\n",
    "print(\"==========\")\n",
    "print(\"\")\n",
    "print(days[\"wed\"])"
   ]
  },
  {
   "cell_type": "code",
   "execution_count": 1,
   "metadata": {},
   "outputs": [
    {
     "name": "stdout",
     "output_type": "stream",
     "text": [
      "Dictionary Literals\n",
      "===================\n",
      "{}\n",
      "{1: 2}\n",
      "{1: 1, 2: 4, 3: 9, 4: 16}\n",
      "{'p': 'o', 'y': 'h', 't': 'n', 'h': 't', 'o': 'y', 'n': 'p'}\n",
      "{'Rixner': True, 'Warren': False}\n",
      "{'China': ['Shanghai', 'Beijing'], 'USA': ['New York', 'Los Angeles'], 'Spain': ['Madrid', 'Barcelona'], 'Australia': ['Sydney', 'Melbourne'], 'Texas': ['Houston', 'San Antonio']}\n",
      "\n",
      "Creating Dictionaries\n",
      "=====================\n",
      "{}\n",
      "{1: 'one', 2: 'two', 3: 'three'}\n",
      "{'p': 'o', 'y': 'h', 't': 'n', 'h': 't', 'o': 'y', 'n': 'p'}\n"
     ]
    }
   ],
   "source": [
    "\"\"\"\n",
    "Dictionary creation.\n",
    "\"\"\"\n",
    "\n",
    "print(\"Dictionary Literals\")\n",
    "print(\"===================\")\n",
    "\n",
    "# Dictionary literals\n",
    "empty = {}\n",
    "print(empty)\n",
    "\n",
    "simple = {1: 2}\n",
    "print(simple)\n",
    "\n",
    "squares = {1: 1, 2: 4, 3: 9, 4: 16}\n",
    "print(squares)\n",
    "\n",
    "cipher = {'p': 'o', 'y': 'h', 't': 'n',\n",
    "          'h': 't', 'o': 'y', 'n': 'p'} \n",
    "print(cipher)\n",
    "\n",
    "goodinstructors = {'Rixner': True, 'Warren': False}\n",
    "print(goodinstructors)\n",
    "\n",
    "cities = {'China': ['Shanghai', 'Beijing'],\n",
    "          'USA': ['New York', 'Los Angeles'],\n",
    "          'Spain': ['Madrid', 'Barcelona'],\n",
    "          'Australia': ['Sydney', 'Melbourne'],\n",
    "          'Texas': ['Houston', 'San Antonio']}\n",
    "print(cities)\n",
    "\n",
    "print(\"\")\n",
    "print(\"Creating Dictionaries\")\n",
    "print(\"=====================\")\n",
    "\n",
    "empty2 = dict()\n",
    "print(empty2)\n",
    "\n",
    "data = [(1, 'one'), (2, 'two'), (3, 'three')]\n",
    "names = dict(data)\n",
    "print(names)\n",
    "\n",
    "cipher2 = dict(cipher)\n",
    "print(cipher2)\n"
   ]
  },
  {
   "cell_type": "code",
   "execution_count": 10,
   "metadata": {},
   "outputs": [
    {
     "name": "stdout",
     "output_type": "stream",
     "text": [
      "Dictionary Lookup\n",
      "=================\n",
      "{'p': 'o', 'y': 'h', 't': 'n', 'h': 't', 'o': 'y', 'n': 'p'}\n",
      "n\n",
      "p\n",
      "python ohntyp\n",
      "n\n",
      "None\n",
      "z\n",
      "\n",
      "Dictionary Update\n",
      "=================\n",
      "{'p': 'o', 'y': 'h', 't': 'n', 'h': 't', 'o': 'y', 'n': 'p'}\n",
      "{'p': 'q', 'y': 'h', 't': 'n', 'h': 't', 'o': 'y', 'n': 'p'}\n",
      "{'p': 'q', 'y': 'h', 't': 'n', 'h': 't', 'o': 'y', 'n': 'p', 'r': 'z'}\n",
      "python ohntyp qhntyp\n"
     ]
    }
   ],
   "source": [
    "\"\"\"\n",
    "Dictionary lookup and update.\n",
    "\"\"\"\n",
    "\n",
    "\n",
    "print(\"Dictionary Lookup\")\n",
    "print(\"=================\")\n",
    "\n",
    "cipher = {'p': 'o', 'y': 'h', 't': 'n',\n",
    "          'h': 't', 'o': 'y', 'n': 'p'} \n",
    "print(cipher)\n",
    "\n",
    "# Use indexing with keys to access values\n",
    "print(cipher['t'])\n",
    "print(cipher['n'])\n",
    " \n",
    "def encrypt(cipher, word):\n",
    "    \n",
    "    \"\"\"encrypt word using cipher\"\"\"\n",
    "    encrypted = \"\"\n",
    "    for char in word:\n",
    "        encrypted += cipher[char]\n",
    "    return encrypted\n",
    "\n",
    "python = \"python\"\n",
    "enc = encrypt(cipher, python)\n",
    "print(python, enc)\n",
    "\n",
    "# It is an error to use a non-existent key\n",
    "# print(cipher[1])\n",
    "\n",
    "# Use .get when you are unsure if the key exists\n",
    "print(cipher.get('t'))\n",
    "print(cipher.get(1))\n",
    "print(cipher.get(1, 'z'))\n",
    "\n",
    "print(\"\")\n",
    "print(\"Dictionary Update\")\n",
    "print(\"=================\")\n",
    "\n",
    "print(cipher)\n",
    "\n",
    "# Modify an existing key->value mapping\n",
    "cipher['p'] = 'q'\n",
    "print(cipher)\n",
    "\n",
    "# Create a new key->value mapping\n",
    "cipher['r'] = 'z'\n",
    "print(cipher)\n",
    "\n",
    "enc2 = encrypt(cipher, python)\n",
    "print(python, enc, enc2)\n"
   ]
  },
  {
   "cell_type": "code",
   "execution_count": 11,
   "metadata": {},
   "outputs": [
    {
     "name": "stdout",
     "output_type": "stream",
     "text": [
      "Using 'in'\n",
      "==========\n",
      "True\n",
      "True\n",
      "False\n",
      "False\n",
      "True\n",
      "False\n",
      "\n",
      "Protecting from Errors\n",
      "======================\n",
      "8 -3\n",
      "14 not in mapping\n",
      "22 17\n",
      "25 not in mapping\n",
      "Issues with Keys\n",
      "================\n",
      "{4.0: 2, 'a': 3, True: 'true', False: 9}\n",
      "{4.0: 2, 'a': 3, True: 7, False: 9}\n",
      "{4.0: 2, 'a': 3, True: 7, False: 'false'}\n",
      "{4.0: 7, 'a': 3, True: 7, False: 'false'}\n",
      "{4.0: 7, 'a': 3, True: 7, False: 'false', 'A': 'abc'}\n"
     ]
    }
   ],
   "source": [
    "\"\"\"\n",
    "Checking for keys in a dictionary.\n",
    "\"\"\"\n",
    "\n",
    "print(\"Using 'in'\")\n",
    "print(\"==========\")\n",
    "\n",
    "mapping = {1: 5, 8: -3, 7: 22, 4: 13, 22: 17}\n",
    "\n",
    "# Keys\n",
    "print(1 in mapping)\n",
    "print(8 in mapping)\n",
    "\n",
    "# Values\n",
    "print(5 in mapping)\n",
    "print(-3 in mapping)\n",
    "\n",
    "# Both\n",
    "print(22 in mapping)\n",
    "\n",
    "# Neither\n",
    "print(82 in mapping)\n",
    "\n",
    "print(\"\")\n",
    "\n",
    "print(\"Protecting from Errors\")\n",
    "print(\"======================\")\n",
    "\n",
    "keys = [8, 14, 22, 25]\n",
    "\n",
    "#for key in keys:\n",
    "#    print(key, mapping[key])\n",
    "\n",
    "for key in keys:\n",
    "    if key in mapping:\n",
    "        print(key, mapping[key])\n",
    "    else:\n",
    "        print(\"{} not in mapping\".format(key))\n",
    "\n",
    "\n",
    "print(\"Issues with Keys\")\n",
    "print(\"================\")\n",
    "        \n",
    "# Be careful with what you use as keys!\n",
    "# If all keys are of the same type, you won't run\n",
    "#  into these issues\n",
    "mapping = {4.0: 2, 'a': 3, True: 'true', False: 9}\n",
    "print(mapping)\n",
    "\n",
    "mapping[1] = 7\n",
    "print(mapping)\n",
    "\n",
    "mapping[0] = 'false'\n",
    "print(mapping)\n",
    "\n",
    "mapping[4] = 7\n",
    "print(mapping)\n",
    "\n",
    "mapping['A'] = 'abc'\n",
    "print(mapping)"
   ]
  },
  {
   "cell_type": "code",
   "execution_count": 16,
   "metadata": {},
   "outputs": [
    {
     "name": "stdout",
     "output_type": "stream",
     "text": [
      "{'sun': 'Sunday', 'mon': 'Monday', 'tues': 'Tuesday', 'wed': 'Wednesday', 'thurs': 'Thursday', 'fri': 'Friday', 'sat': 'Saturday'}\n",
      "==========\n",
      "\n",
      "Wednesday\n",
      "=========\n",
      "\n",
      "True\n",
      "False\n",
      "False\n",
      "\n",
      "1 not in days\n",
      "2 not in days\n",
      "3 not in days\n",
      "4 not in days\n",
      "5 not in days\n",
      "6 not in days\n",
      "7 not in days\n"
     ]
    }
   ],
   "source": [
    "days = {'sun':'Sunday',\n",
    "        'mon':'Monday',\n",
    "        'tues':'Tuesday',\n",
    "        'wed':'Wednesday',\n",
    "        'thurs':'Thursday',\n",
    "        'fri':'Friday',\n",
    "        'sat':'Saturday',    \n",
    "}\n",
    "print(days)\n",
    "print(\"==========\")\n",
    "print(\"\")\n",
    "print(days[\"wed\"])\n",
    "print(\"=========\")\n",
    "print(\"\")\n",
    "print('mon' in days)\n",
    "print('nkj' in days)\n",
    "print(1 in days)\n",
    "print(\"\")\n",
    "week = [1,2,3,4,5,6,7]\n",
    "\n",
    "for key in week:\n",
    "    if key in days:\n",
    "        print(key, days[key])\n",
    "    else:\n",
    "        print(\"{} not in days\".format(key))"
   ]
  },
  {
   "cell_type": "code",
   "execution_count": 18,
   "metadata": {},
   "outputs": [
    {
     "name": "stdout",
     "output_type": "stream",
     "text": [
      "{'sun': 'Sunday', 'mon': 'Monday', 'tues': 'Tuesday', 'wed': 'Wednesday', 'thurs': 'Thursday', 'fri': 'Friday', 'sat': 'Saturday'}\n",
      "==========\n",
      "\n",
      "sun Sunday\n",
      "wed Wednesday\n",
      "fri Friday\n",
      "2 not in days\n",
      "3 not in days\n",
      "5 not in days\n",
      "\n",
      "{4.0: 2, 'a': 3, True: 'true', False: 9}\n"
     ]
    }
   ],
   "source": [
    "days = {'sun':'Sunday',\n",
    "        'mon':'Monday',\n",
    "        'tues':'Tuesday',\n",
    "        'wed':'Wednesday',\n",
    "        'thurs':'Thursday',\n",
    "        'fri':'Friday',\n",
    "        'sat':'Saturday',    \n",
    "}\n",
    "print(days)\n",
    "print(\"==========\")\n",
    "print(\"\")\n",
    "\n",
    "week = ['sun','wed','fri',2,3,5]\n",
    "\n",
    "for key in week:\n",
    "    if key in days:\n",
    "        print(key, days[key])\n",
    "    else:\n",
    "        print(\"{} not in days\".format(key))\n",
    "\n",
    "        \n",
    "print(\"\")\n",
    "days = {4.0: 2, 'a': 3, True: 'true', False: 9}\n",
    "print(days)\n"
   ]
  },
  {
   "cell_type": "code",
   "execution_count": 19,
   "metadata": {},
   "outputs": [],
   "source": [
    "contacts = {'Scott Rixner': '1-101-555-1234',\n",
    "            'Joe Warren': '1-102-555-5678',\n",
    "            'Jane Doe': '1-103-555-9012'}\n",
    "\n",
    "def lookup(contacts, name):\n",
    "    \"\"\"\n",
    "    Lookup name in contacts and return phone number.\n",
    "    If name is not in contacts, return an empty string.\n",
    "    \"\"\"\n",
    "    if name in contacts:\n",
    "        return contacts[name]\n",
    "    else:\n",
    "        return \"\"\n",
    "    \n",
    "def lookup2(contacts, name):\n",
    "    \"\"\"\n",
    "    Lookup name in contacts and return phone number.\n",
    "    If name is not in contacts, return an empty string.\n",
    "    \"\"\"\n",
    "    return contacts.get(name, \"\")\n",
    "\n",
    "def print_contacts(contacts):\n",
    "    \"\"\"\n",
    "    Print the names of the contacts in our contacts list.\n",
    "    \"\"\"\n",
    "    for name in contacts:\n",
    "        print(name)\n",
    "        \n",
    "def print_contact_list(contacts):\n",
    "    \"\"\"\n",
    "    Print the names and phone numbers of the contacts in\n",
    "    our contacts list.\n",
    "    \"\"\"\n",
    "    for name, number in contacts.items():\n",
    "        print(name, \":\", number)\n",
    "        \n",
    "def print_ordered(contacts):\n",
    "    \"\"\"\n",
    "    Print the names and phone numbers of the contacts\n",
    "    in our contacts list in alphabetical order.\n",
    "    \"\"\"\n",
    "    keys = contacts.keys()\n",
    "    names = sorted(keys)\n",
    "    for name in names:\n",
    "        print(name, \":\", contacts[name])\n",
    "\n",
    "def add_contact(contacts, name, number):\n",
    "    \"\"\"\n",
    "    Add a new contact (name, number) to the contacts list.\n",
    "    \"\"\"\n",
    "    if name in contacts:\n",
    "        print(name, \"is already in contacts list!\")\n",
    "    else:\n",
    "        contacts[name] = number\n",
    "        \n",
    "def update_contact(contacts, name, newnumber):\n",
    "    \"\"\"\n",
    "    Update an existing contact's number in the contacts list.\n",
    "    \"\"\"\n",
    "    if name in contacts:\n",
    "        contacts[name] = newnumber\n",
    "    else:\n",
    "        print(name, \"is not in contacts list!\")\n",
    "        \n",
    "def add_or_update_contact(contacts, name, number):\n",
    "    \"\"\"\n",
    "    Add contact or update it if it is already in the contacts list.\n",
    "    \"\"\"\n",
    "    contacts[name] = number"
   ]
  },
  {
   "cell_type": "code",
   "execution_count": 20,
   "metadata": {},
   "outputs": [],
   "source": [
    "\"\"\"\n",
    "Example code for working with dictionary keys\n",
    "\"\"\"\n",
    "\n",
    "# Three example of dictionaries - note that dictionary keys in Python must be immutable\n",
    "simple_dict = {\"Joe\" : 1, \"Scott\" : 2, \"John\" : 3}\n",
    "##print(simple_dict)\n",
    "\n",
    "#bad_dict = {[\"Joe\", \"Warren\"] : 1, [\"Scott\", \"Rixner\"] : 2, [\"John\", \"Greiner\"] : 3}\n",
    "#print(bad_dict)\n",
    "\n",
    "good_dict = {(\"Joe\", \"Warren\") : 1, (\"Scott\", \"Rixner\") : 2, (\"John\", \"Greiner\") : 3}\n",
    "#print(good_dict)\n",
    "\n",
    "\n",
    "# Examples of dictionary lookup\n",
    "#print(simple_dict[\"Joe\"])\n",
    "#print(simple_dict[\"Scott\"])\n",
    "#print(simple_dict[\"Stephen\"])\n",
    "#print(good_dict[(\"Joe\", \"Warren\")])\n",
    "#print(good_dict[(\"John\", \"Greiner\")])\n",
    "\n",
    "\n",
    "\n",
    "\n",
    "# Custom code for looking up keys that may not always be present\n",
    "\n",
    "def lookup(my_dict, my_key, default_value=None):\n",
    "    \"\"\"\n",
    "    Given dictionary my_dict and key my_key, \n",
    "    return my_dict[my_key] if my_key is in my_dict\n",
    "    otherwise return default_value\n",
    "    \"\"\"\n",
    "    if my_key in my_dict:\n",
    "        return my_dict[my_key]\n",
    "    else:\n",
    "        return default_value\n",
    "\n",
    "#simple_dict = {\"Joe\" : 1, \"Scott\" : 2, \"John\" : 3}\n",
    "#print(lookup(simple_dict, \"Joe\", -1))\n",
    "#print(lookup(simple_dict, \"Stephen\", -1))\n",
    "#print(lookup(simple_dict, \"Stephen\"))\n",
    "\n",
    "\n",
    "\n",
    "\n",
    "\n",
    "\n",
    "\n",
    "# Built-in Python dictionary method get() in place of lookup()\n",
    "#simple_dict = {\"Joe\" : 1, \"Scott\" : 2, \"John\" : 3}\n",
    "#print(simple_dict.get(\"Joe\", -1))\n",
    "#print(simple_dict.get(\"Stephen\", -1))\n",
    "#print(simple_dict.get(\"Stephen\"))\t\t# default value if parameter is omitted is None\n",
    "\n",
    "# Note that we can acheive the same effect in lookup() \n",
    "# via default parameter definition of the form \"default_value = None\"\n",
    "\n"
   ]
  },
  {
   "cell_type": "code",
   "execution_count": 21,
   "metadata": {},
   "outputs": [
    {
     "name": "stdout",
     "output_type": "stream",
     "text": [
      "{}\n"
     ]
    }
   ],
   "source": [
    "my_dict = {}\n",
    "print(my_dict)"
   ]
  },
  {
   "cell_type": "code",
   "execution_count": 27,
   "metadata": {},
   "outputs": [
    {
     "name": "stdout",
     "output_type": "stream",
     "text": [
      "{1: 'Joe', 2: 'Scott'}\n",
      "\n",
      "Joe\n",
      "Scott\n"
     ]
    }
   ],
   "source": [
    "my_dict = {1 : \"Joe\", 2: \"Scott\"}\n",
    "print(my_dict)\n",
    "print(\"\")\n",
    "print(my_dict[1])\n",
    "print(my_dict[2])"
   ]
  },
  {
   "cell_type": "code",
   "execution_count": 28,
   "metadata": {},
   "outputs": [
    {
     "name": "stdout",
     "output_type": "stream",
     "text": [
      "{'key': 'value'}\n",
      "{'key': 'value', 'mynewkey': 'mynewvalue'}\n"
     ]
    }
   ],
   "source": [
    "d = {'key': 'value'}\n",
    "print(d)\n",
    "# {'key': 'value'}\n",
    "d['mynewkey'] = 'mynewvalue'\n",
    "print(d)"
   ]
  },
  {
   "cell_type": "code",
   "execution_count": 41,
   "metadata": {},
   "outputs": [
    {
     "name": "stdout",
     "output_type": "stream",
     "text": [
      "{1: 'Joe', 2: 'Scott'}\n",
      "{3: 'John'}\n",
      "{1: 'Joe', 2: 'Scott', 3: 'John'}\n"
     ]
    }
   ],
   "source": [
    "my_dict = {1 : \"Joe\", 2: \"Scott\"}\n",
    "print(my_dict)\n",
    "my_dict2 = {3 : \"John\"}\n",
    "print(my_dict2)\n",
    "my_dict.update(my_dict2)\n",
    "print(my_dict)\n",
    "week = [1,2,3,4,5,6,7]\n",
    "\n",
    "for key in week:\n",
    "    if key in days:\n",
    "        print(key, days[key])\n",
    "    else:\n",
    "        print(\"{} not in days\".format(key))"
   ]
  },
  {
   "cell_type": "code",
   "execution_count": 47,
   "metadata": {},
   "outputs": [
    {
     "name": "stdout",
     "output_type": "stream",
     "text": [
      "{1: 'Joe', 2: 'Scott', 3: 'John'}\n",
      "\n",
      "1 Joe\n",
      "2 Scott\n",
      "3 John\n",
      "d not in my_dict\n",
      "True\n",
      "True\n",
      "True\n",
      "False\n",
      "False\n",
      "False\n"
     ]
    }
   ],
   "source": [
    "my_dict = {1 : \"Joe\", 2: \"Scott\",3 : \"John\"}\n",
    "print(my_dict)\n",
    "print(\"\")\n",
    "my_dict2=[1,2,3,'d']\n",
    "for key in my_dict2:\n",
    "    if key in my_dict:\n",
    "        print(key,my_dict[key])\n",
    "    else:\n",
    "        print(\"{} not in my_dict\".format(key))\n",
    "\n",
    "print(1 in my_dict)\n",
    "print(2 in my_dict)\n",
    "print( 3 in my_dict)        \n",
    "print(\"Joe\" in my_dict)\n",
    "print(\"John\" in my_dict)\n",
    "print(\"Stephen\" in my_dict)"
   ]
  },
  {
   "cell_type": "code",
   "execution_count": 49,
   "metadata": {},
   "outputs": [
    {
     "name": "stdout",
     "output_type": "stream",
     "text": [
      "True\n",
      "False\n",
      "False\n"
     ]
    }
   ],
   "source": [
    "my_dict = {\"Joe\" : 1, \"Scott\" : 2, \"John\" : 3}\n",
    "def is_empty(my_dict):\n",
    "    return len(my_dict) == 0\n",
    "\n",
    "print(is_empty({}))\n",
    "print(is_empty({0 : 1}))\n",
    "print(is_empty({\"Joe\" : 1, \"Scott\" : 2}))\n"
   ]
  },
  {
   "cell_type": "code",
   "execution_count": 50,
   "metadata": {},
   "outputs": [
    {
     "ename": "KeyError",
     "evalue": "'John'",
     "output_type": "error",
     "traceback": [
      "\u001b[1;31m---------------------------------------------------------------------------\u001b[0m",
      "\u001b[1;31mKeyError\u001b[0m                                  Traceback (most recent call last)",
      "\u001b[1;32m<ipython-input-50-3f2cbf79b6fa>\u001b[0m in \u001b[0;36m<module>\u001b[1;34m\u001b[0m\n\u001b[0;32m      1\u001b[0m \u001b[0minstructor_ratings\u001b[0m \u001b[1;33m=\u001b[0m \u001b[1;33m{\u001b[0m\u001b[1;34m\"Joe\"\u001b[0m \u001b[1;33m:\u001b[0m \u001b[1;34m\"awesome\"\u001b[0m\u001b[1;33m,\u001b[0m \u001b[1;34m\"Scott\"\u001b[0m \u001b[1;33m:\u001b[0m \u001b[1;34m\"hmmm...\"\u001b[0m\u001b[1;33m}\u001b[0m\u001b[1;33m\u001b[0m\u001b[1;33m\u001b[0m\u001b[0m\n\u001b[1;32m----> 2\u001b[1;33m \u001b[0mprint\u001b[0m\u001b[1;33m(\u001b[0m\u001b[0minstructor_ratings\u001b[0m\u001b[1;33m[\u001b[0m\u001b[1;34m\"John\"\u001b[0m\u001b[1;33m]\u001b[0m\u001b[1;33m)\u001b[0m\u001b[1;33m\u001b[0m\u001b[1;33m\u001b[0m\u001b[0m\n\u001b[0m",
      "\u001b[1;31mKeyError\u001b[0m: 'John'"
     ]
    }
   ],
   "source": [
    "instructor_ratings = {\"Joe\" : \"awesome\", \"Scott\" : \"hmmm...\"}\n",
    "print(instructor_ratings[\"John\"])"
   ]
  },
  {
   "cell_type": "code",
   "execution_count": 54,
   "metadata": {},
   "outputs": [
    {
     "name": "stdout",
     "output_type": "stream",
     "text": [
      "()\n"
     ]
    }
   ],
   "source": [
    "my_dict = ()\n",
    "print(my_dict)"
   ]
  },
  {
   "cell_type": "code",
   "execution_count": 53,
   "metadata": {},
   "outputs": [
    {
     "ename": "SyntaxError",
     "evalue": "invalid syntax (<ipython-input-53-09a6fa2e217d>, line 1)",
     "output_type": "error",
     "traceback": [
      "\u001b[1;36m  File \u001b[1;32m\"<ipython-input-53-09a6fa2e217d>\"\u001b[1;36m, line \u001b[1;32m1\u001b[0m\n\u001b[1;33m    my_dict() = <>\u001b[0m\n\u001b[1;37m                 ^\u001b[0m\n\u001b[1;31mSyntaxError\u001b[0m\u001b[1;31m:\u001b[0m invalid syntax\n"
     ]
    }
   ],
   "source": [
    "my_dict() = <>\n",
    "print(my_dict)"
   ]
  },
  {
   "cell_type": "code",
   "execution_count": null,
   "metadata": {},
   "outputs": [],
   "source": []
  }
 ],
 "metadata": {
  "kernelspec": {
   "display_name": "Python 3",
   "language": "python",
   "name": "python3"
  },
  "language_info": {
   "codemirror_mode": {
    "name": "ipython",
    "version": 3
   },
   "file_extension": ".py",
   "mimetype": "text/x-python",
   "name": "python",
   "nbconvert_exporter": "python",
   "pygments_lexer": "ipython3",
   "version": "3.7.3"
  }
 },
 "nbformat": 4,
 "nbformat_minor": 2
}
