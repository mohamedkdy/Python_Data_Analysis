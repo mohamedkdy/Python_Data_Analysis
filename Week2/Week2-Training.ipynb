{
 "cells": [
  {
   "cell_type": "markdown",
   "metadata": {},
   "source": [
    "# Nested Representations for Tabular Data"
   ]
  },
  {
   "cell_type": "code",
   "execution_count": 1,
   "metadata": {},
   "outputs": [
    {
     "name": "stdout",
     "output_type": "stream",
     "text": [
      "Direct Iteration\n",
      "================\n",
      "Washington, D.C., USA\n",
      "Beijing, China\n",
      "Paris, France\n",
      "London, England\n",
      "Rome, Italy\n",
      "Moscow, Russia\n",
      "Canberra, Australia\n",
      "Lima, Peru\n",
      "Tokyo, Japan\n",
      "\n",
      "Iteration over Keys\n",
      "===================\n",
      "Washington, D.C., USA\n",
      "Beijing, China\n",
      "Paris, France\n",
      "London, England\n",
      "Rome, Italy\n",
      "Moscow, Russia\n",
      "Canberra, Australia\n",
      "Lima, Peru\n",
      "Tokyo, Japan\n",
      "\n",
      "Iteration over Values\n",
      "=====================\n",
      "Capital city: Washington, D.C.\n",
      "Capital city: Beijing\n",
      "Capital city: Paris\n",
      "Capital city: London\n",
      "Capital city: Rome\n",
      "Capital city: Moscow\n",
      "Capital city: Canberra\n",
      "Capital city: Lima\n",
      "Capital city: Tokyo\n",
      "\n",
      "Iteration over Items\n",
      "===================\n",
      "Washington, D.C., USA\n",
      "Beijing, China\n",
      "Paris, France\n",
      "London, England\n",
      "Rome, Italy\n",
      "Moscow, Russia\n",
      "Canberra, Australia\n",
      "Lima, Peru\n",
      "Tokyo, Japan\n",
      "\n",
      "Checking Membership\n",
      "===================\n",
      "True\n",
      "False\n",
      "False\n",
      "True\n",
      "False\n",
      "True\n"
     ]
    }
   ],
   "source": [
    "\"\"\"\n",
    "Iterating over dictionaries.\n",
    "\"\"\"\n",
    "\n",
    "# Mapping from various cities to their country\n",
    "capitals = {'USA': 'Washington, D.C.',\n",
    "            'China': 'Beijing',\n",
    "            'France': 'Paris',\n",
    "            'England': 'London',\n",
    "            'Italy': 'Rome',\n",
    "            'Russia': 'Moscow',\n",
    "            'Australia': 'Canberra',\n",
    "            'Peru': 'Lima',\n",
    "            'Japan': 'Tokyo'}\n",
    "\n",
    "print(\"Direct Iteration\")\n",
    "print(\"================\")\n",
    "\n",
    "for country in capitals:\n",
    "    print(\"{}, {}\".format(capitals[country], country))\n",
    "\n",
    "print(\"\")\n",
    "\n",
    "print(\"Iteration over Keys\")\n",
    "print(\"===================\")\n",
    "\n",
    "for country in capitals.keys():\n",
    "    print(\"{}, {}\".format(capitals[country], country))\n",
    "\n",
    "print(\"\")\n",
    "\n",
    "print(\"Iteration over Values\")\n",
    "print(\"=====================\")\n",
    "\n",
    "for city in capitals.values():\n",
    "    print(\"Capital city: {}\".format(city))\n",
    "\n",
    "print(\"\")\n",
    "\n",
    "print(\"Iteration over Items\")\n",
    "print(\"===================\")\n",
    "\n",
    "for country, city in capitals.items():\n",
    "    print(\"{}, {}\".format(city, country))\n",
    "\n",
    "print(\"\")\n",
    "\n",
    "print(\"Checking Membership\")\n",
    "print(\"===================\")\n",
    "\n",
    "print('England' in capitals)\n",
    "print('Lima' in capitals)\n",
    "\n",
    "print('Moscow' in capitals.keys())\n",
    "print('Italy' in capitals.keys())\n",
    "\n",
    "print('Houston' in capitals.values())\n",
    "print('Beijing' in capitals.values())\n"
   ]
  },
  {
   "cell_type": "code",
   "execution_count": 2,
   "metadata": {},
   "outputs": [
    {
     "name": "stdout",
     "output_type": "stream",
     "text": [
      "Language              2017  2012  2007  2002  1997  1992  1987\n",
      "--------------------------------------------------------------\n",
      "Java                     1     2     1     1    15     0     0\n",
      "C                        2     1     2     2     1     1     1\n",
      "C++                      3     3     3     3     2     2     5\n",
      "C#                       4     4     7    13     0     0     0\n",
      "Python                   5     7     6    11    27     0     0\n",
      "Visual Basic .NET        6    17     0     0     0     0     0\n",
      "PHP                      7     6     4     5     0     0     0\n",
      "JavaScript               8     9     8     7    23     0     0\n",
      "Perl                     9     8     5     4     4    10     0\n",
      "\n",
      "Python's popularity in 1997: 27\n",
      "Python's popularity in 1997: 27\n"
     ]
    }
   ],
   "source": [
    "\"\"\"\n",
    "Tabular data as a nested list.\n",
    "\"\"\"\n",
    "\n",
    "# Programming language popularity, from www.tiobe.com/tiobe-index\n",
    "popularity = [[\"Language\", 2017, 2012, 2007, 2002, 1997, 1992, 1987],\n",
    "              [\"Java\", 1, 2, 1, 1, 15, 0, 0],\n",
    "              [\"C\", 2, 1, 2, 2, 1, 1, 1],\n",
    "              [\"C++\", 3, 3, 3, 3, 2, 2, 5],\n",
    "              [\"C#\", 4, 4, 7, 13, 0, 0, 0],\n",
    "              [\"Python\", 5, 7, 6, 11, 27, 0, 0],\n",
    "              [\"Visual Basic .NET\", 6, 17, 0, 0, 0, 0, 0],\n",
    "              [\"PHP\", 7, 6, 4, 5, 0, 0, 0],\n",
    "              [\"JavaScript\", 8, 9, 8, 7, 23, 0, 0],\n",
    "              [\"Perl\", 9, 8, 5, 4, 4, 10, 0]]\n",
    "\n",
    "format_string = \"{:<20}  {:>4}  {:>4}  {:>4}  {:>4}  {:>4}  {:>4}  {:>4}\"\n",
    "\n",
    "# Display langauges table\n",
    "headers = popularity[0]\n",
    "header_row = format_string.format(*headers)\n",
    "print(header_row)\n",
    "print(\"-\" * len(header_row))\n",
    "\n",
    "for language in popularity[1:]:\n",
    "    print(format_string.format(*language))\n",
    "\n",
    "print(\"\")\n",
    "    \n",
    "# Finding/selecting items\n",
    "\n",
    "# What was Python's popularity in 1997?\n",
    "print(\"Python's popularity in 1997:\", popularity[5][5])\n",
    "\n",
    "def find_col(table, col):\n",
    "    \"\"\"\n",
    "    Return column index with col header in table\n",
    "    or -1 if col is not in table\n",
    "    \"\"\"\n",
    "    return table[0].index(col)\n",
    "\n",
    "def find_row(table, row):\n",
    "    \"\"\"\n",
    "    Return row index with row header in table\n",
    "    or -1 if row is not in table\n",
    "    \"\"\"\n",
    "    for idx in range(len(table)):\n",
    "        if table[idx][0] == row:\n",
    "            return idx\n",
    "    return -1\n",
    "    \n",
    "idx1997 = find_col(popularity, 1997)\n",
    "idxpython = find_row(popularity, \"Python\")\n",
    "print(\"Python's popularity in 1997:\", popularity[idxpython][idx1997])\n"
   ]
  },
  {
   "cell_type": "code",
   "execution_count": 3,
   "metadata": {},
   "outputs": [
    {
     "name": "stdout",
     "output_type": "stream",
     "text": [
      "Product               Vendor        Type               Vulnerabilities\n",
      "----------------------------------------------------------------------\n",
      "Android               Google        Operating System        564\n",
      "Linux Kernel          Linux         Operating System        367\n",
      "Imagemagick           Imagemagick   Application             307\n",
      "IPhone OS             Apple         Operating System        290\n",
      "Mac OS X              Apple         Operating System        210\n",
      "Windows 10            Microsoft     Operating System        195\n",
      "Windows Server 2008   Microsoft     Operating System        187\n",
      "Windows Server 2016   Microsoft     Operating System        183\n",
      "Windows Server 2012   Microsoft     Operating System        176\n",
      "Windows 7             Microsoft     Operating System        174\n",
      "\n",
      "174\n",
      "Android 564\n"
     ]
    }
   ],
   "source": [
    "\"\"\"\n",
    "Tabular data as nested dictionaries.\n",
    "\"\"\"\n",
    "\n",
    "# Top 10 software products with the most vulnerabilities in 2017\n",
    "# (through August).  From www.cvedetails.com.\n",
    "vulnerabilities2017 = {\n",
    "    'Android': {'vendor': 'Google',\n",
    "                'type': 'Operating System',\n",
    "                'number': 564},\n",
    "    'Linux Kernel': {'vendor': 'Linux',\n",
    "                     'type': 'Operating System',\n",
    "                     'number': 367},\n",
    "    'Imagemagick': {'vendor': 'Imagemagick',\n",
    "                    'type': 'Application',\n",
    "                    'number': 307},\n",
    "    'IPhone OS': {'vendor': 'Apple',\n",
    "                  'type': 'Operating System',\n",
    "                  'number': 290},\n",
    "    'Mac OS X': {'vendor': 'Apple',\n",
    "                 'type': 'Operating System',\n",
    "                 'number': 210},\n",
    "    'Windows 10': {'vendor': 'Microsoft',\n",
    "                   'type': 'Operating System',\n",
    "                   'number': 195},\n",
    "    'Windows Server 2008': {'vendor': 'Microsoft',\n",
    "                            'type': 'Operating System',\n",
    "                            'number': 187},\n",
    "    'Windows Server 2016': {'vendor': 'Microsoft',\n",
    "                            'type': 'Operating System',\n",
    "                            'number': 183},\n",
    "    'Windows Server 2012': {'vendor': 'Microsoft',\n",
    "                            'type': 'Operating System',\n",
    "                            'number': 176},\n",
    "    'Windows 7': {'vendor': 'Microsoft',\n",
    "                  'type': 'Operating System',\n",
    "                  'number': 174}\n",
    "}\n",
    "\n",
    "# Display vulnerabilities table\n",
    "print(\"Product               Vendor        Type               Vulnerabilities\")\n",
    "print(\"----------------------------------------------------------------------\")\n",
    "\n",
    "for product, values in vulnerabilities2017.items():\n",
    "    row = \"{:21} {:13} {:18} {:8}\".format(product, values['vendor'], values['type'], values['number'])\n",
    "    print(row)\n",
    "\n",
    "print(\"\")\n",
    "\n",
    "# Finding/selecting items\n",
    "\n",
    "# How many vulnerabilites does Windows 7 have?\n",
    "print(vulnerabilities2017['Windows 7']['number'])\n",
    "\n",
    "# What product had the most vulnerabilities?\n",
    "maxproduct = None\n",
    "maxnumber = -1\n",
    "\n",
    "for product, values in vulnerabilities2017.items():\n",
    "    if values['number'] > maxnumber:\n",
    "        maxproduct = product\n",
    "        maxnumber = values['number']\n",
    "\n",
    "print(maxproduct, maxnumber)"
   ]
  },
  {
   "cell_type": "code",
   "execution_count": 6,
   "metadata": {},
   "outputs": [
    {
     "name": "stdout",
     "output_type": "stream",
     "text": [
      "[[], [], [], [], []]\n",
      "\n",
      "[[0, 0, 0], [0, 0, 0], [0, 0, 0], [0, 0, 0], [0, 0, 0]]\n"
     ]
    }
   ],
   "source": [
    "nested_list = [[],[],[],[],[]]\n",
    "print(nested_list)\n",
    "print(\"\")\n",
    "nested_list = [[0,0,0],[0,0,0],[0,0,0],[0,0,0],[0,0,0]]\n",
    "print(nested_list)"
   ]
  },
  {
   "cell_type": "code",
   "execution_count": 10,
   "metadata": {},
   "outputs": [
    {
     "name": "stdout",
     "output_type": "stream",
     "text": [
      "None\n"
     ]
    }
   ],
   "source": [
    "my_dict = {0 : 0, 5 : 10, 10 : 20, 15 : 30, 20 : 40}\n",
    "\n",
    "[rint(my_dict.get(25)"
   ]
  },
  {
   "cell_type": "code",
   "execution_count": 17,
   "metadata": {},
   "outputs": [
    {
     "name": "stdout",
     "output_type": "stream",
     "text": [
      "[0, 0, 0, 0, 0]\n",
      "[0, 1, 2, 3, 4]\n",
      "[0, 2, 4, 6, 8]\n"
     ]
    },
    {
     "data": {
      "text/plain": [
       "4"
      ]
     },
     "execution_count": 17,
     "metadata": {},
     "output_type": "execute_result"
    }
   ],
   "source": [
    "NUM_ROWS = 3\n",
    "NUM_COLS = 5\n",
    "\n",
    "# construct a matrix\n",
    "my_matrix = []\n",
    "for row in range(NUM_ROWS):\n",
    "    new_row = []\n",
    "    for col in range(NUM_COLS):\n",
    "        new_row.append(row * col)\n",
    "    my_matrix.append(new_row)\n",
    " \n",
    "# print the matrix\n",
    "for row in my_matrix:\n",
    "    print(row)\n",
    "    \n",
    "my_matrix[1][4]"
   ]
  },
  {
   "cell_type": "code",
   "execution_count": 18,
   "metadata": {},
   "outputs": [
    {
     "name": "stdout",
     "output_type": "stream",
     "text": [
      "{0: {0: 0, 1: 0, 2: 0, 3: 0, 4: 0}, 1: {0: 0, 1: 1, 2: 2, 3: 3, 4: 4}, 2: {0: 0, 1: 2, 2: 4, 3: 6, 4: 8}}\n",
      "0 0 0 0 0 \n",
      "0 1 2 3 4 \n",
      "0 2 4 6 8 \n"
     ]
    }
   ],
   "source": [
    "NUM_ROWS = 3\n",
    "NUM_COLS = 5\n",
    "\n",
    "# construct a matrix\n",
    "my_matrix = {}\n",
    "for row in range(NUM_ROWS):\n",
    "    row_dict = {}\n",
    "    for col in range(NUM_COLS):\n",
    "        row_dict[col] = row * col\n",
    "    my_matrix[row] = row_dict\n",
    "    \n",
    "print(my_matrix)\n",
    " \n",
    "# print the matrix\n",
    "for row in range(NUM_ROWS):\n",
    "    for col in range(NUM_COLS):\n",
    "        print(my_matrix[row][col], end = \" \")\n",
    "    print()"
   ]
  },
  {
   "cell_type": "code",
   "execution_count": 20,
   "metadata": {},
   "outputs": [
    {
     "name": "stdout",
     "output_type": "stream",
     "text": [
      "('Mohamed', 'Elkady')\n",
      "('Mohamed', 'Elkady')\n",
      "<class 'tuple'>\n",
      "<class 'tuple'>\n"
     ]
    }
   ],
   "source": [
    "myAwesomeTupleOne = (\"Mohamed\",\"Elkady\")\n",
    "myAwesomeTupleTwo = \"Mohamed\",\"Elkady\"\n",
    "# Tuple syntax & Type Test\n",
    "print(myAwesomeTupleOne)\n",
    "print(myAwesomeTupleTwo) \n",
    "print(type(myAwesomeTupleOne))\n",
    "print(type(myAwesomeTupleTwo))\n"
   ]
  },
  {
   "cell_type": "code",
   "execution_count": null,
   "metadata": {},
   "outputs": [],
   "source": []
  }
 ],
 "metadata": {
  "kernelspec": {
   "display_name": "Python 3",
   "language": "python",
   "name": "python3"
  },
  "language_info": {
   "codemirror_mode": {
    "name": "ipython",
    "version": 3
   },
   "file_extension": ".py",
   "mimetype": "text/x-python",
   "name": "python",
   "nbconvert_exporter": "python",
   "pygments_lexer": "ipython3",
   "version": "3.7.3"
  }
 },
 "nbformat": 4,
 "nbformat_minor": 2
}
