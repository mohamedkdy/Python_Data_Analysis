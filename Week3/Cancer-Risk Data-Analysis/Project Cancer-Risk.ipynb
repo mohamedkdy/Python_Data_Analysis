{
 "cells": [
  {
   "cell_type": "markdown",
   "metadata": {},
   "source": [
    "# Practice Project: Loading Cancer-Risk Data"
   ]
  },
  {
   "cell_type": "code",
   "execution_count": 2,
   "metadata": {},
   "outputs": [],
   "source": [
    " # https://storage.googleapis.com/codeskulptor-isp/course3/cancer_risk_plot.png"
   ]
  },
  {
   "cell_type": "code",
   "execution_count": 17,
   "metadata": {},
   "outputs": [
    {
     "name": "stdout",
     "output_type": "stream",
     "text": [
      "['1', '2', '3', '4']\n",
      "['5', '6', '7', '8']\n",
      "['-2', '-3', '-4', '-5']\n",
      "\n",
      "True\n"
     ]
    }
   ],
   "source": [
    "# importing CSV\n",
    "import csv\n",
    "\n",
    "def print_table(table):\n",
    "    for row in table:\n",
    "        print(row)\n",
    "        \n",
    "def read_csv_file(file_name):\n",
    "    with open(file_name, newline='') as csvfile:\n",
    "        table = []\n",
    "        reader = csv.reader(csvfile, delimiter=',')\n",
    "        for row in reader:\n",
    "            table.append(row)\n",
    "    return table\n",
    "\n",
    "def write_csv_file(csv_table, file_name):\n",
    "    \"\"\"\n",
    "    Input: Nested list csv_table and a string file_name\n",
    "    Action: Write fields in csv_table into a comma-separated CSV file with the name file_name\n",
    "    \"\"\"\n",
    "    with open(file_name, 'w', newline='') as csvfile:\n",
    "        writer = csv.writer(csvfile, delimiter=',',\n",
    "                            quotechar='|', quoting=csv.QUOTE_MINIMAL)\n",
    "        for row in csv_table:\n",
    "            writer.writerow(row)\n",
    "def test_part1_code():\n",
    "    \"\"\"\n",
    "    Run examples that test the functions for part 1\n",
    "    \"\"\"\n",
    "    \n",
    "    # Simple test for reader\n",
    "    test_table = read_csv_file(\"test_case.csv\")  # create a small CSV for this test\n",
    "    print_table(test_table)\n",
    "    print()\n",
    "\n",
    "    # Test the writer\n",
    "    cancer_risk_table = read_csv_file('cancer_risk.csv')\n",
    "    write_csv_file(cancer_risk_table, 'cancer_risk_copy.csv')\n",
    "    cancer_risk_copy = read_csv_file('cancer_risk_copy.csv')\n",
    "    \n",
    "    # Test whether two tables are the same\n",
    "    return cancer_risk_table == cancer_risk_copy\n",
    "#    for row in range(len(cancer_risk_table)):\n",
    "#        for col in range(len(cancer_risk_table[0])):\n",
    "#            if cancer_risk_table[row][col] != cancer_risk_copy[row][col]:\n",
    "#                print(\"Difference at\", row, col, cancer_risk_table[row][col], cancer_risk_copy[row][col])\n",
    "\n",
    "print(test_part1_code())"
   ]
  }
 ],
 "metadata": {
  "kernelspec": {
   "display_name": "Python 3",
   "language": "python",
   "name": "python3"
  },
  "language_info": {
   "codemirror_mode": {
    "name": "ipython",
    "version": 3
   },
   "file_extension": ".py",
   "mimetype": "text/x-python",
   "name": "python",
   "nbconvert_exporter": "python",
   "pygments_lexer": "ipython3",
   "version": "3.7.3"
  }
 },
 "nbformat": 4,
 "nbformat_minor": 2
}
